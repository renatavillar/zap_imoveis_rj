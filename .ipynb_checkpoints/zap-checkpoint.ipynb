{
 "cells": [
  {
   "cell_type": "code",
   "execution_count": 1,
   "metadata": {},
   "outputs": [],
   "source": [
    "import pandas as pd"
   ]
  },
  {
   "cell_type": "code",
   "execution_count": 4,
   "metadata": {},
   "outputs": [],
   "source": [
    "data = pd.read_csv('zap.csv', sep='|')"
   ]
  },
  {
   "cell_type": "code",
   "execution_count": 5,
   "metadata": {},
   "outputs": [
    {
     "data": {
      "text/html": [
       "<div>\n",
       "<style scoped>\n",
       "    .dataframe tbody tr th:only-of-type {\n",
       "        vertical-align: middle;\n",
       "    }\n",
       "\n",
       "    .dataframe tbody tr th {\n",
       "        vertical-align: top;\n",
       "    }\n",
       "\n",
       "    .dataframe thead th {\n",
       "        text-align: right;\n",
       "    }\n",
       "</style>\n",
       "<table border=\"1\" class=\"dataframe\">\n",
       "  <thead>\n",
       "    <tr style=\"text-align: right;\">\n",
       "      <th></th>\n",
       "      <th>Rent</th>\n",
       "      <th>Address</th>\n",
       "      <th>Street</th>\n",
       "      <th>Neighborhood</th>\n",
       "      <th>Area</th>\n",
       "      <th>Rooms</th>\n",
       "      <th>Bathrooms</th>\n",
       "      <th>Parking</th>\n",
       "    </tr>\n",
       "  </thead>\n",
       "  <tbody>\n",
       "    <tr>\n",
       "      <th>0</th>\n",
       "      <td>\\n    R$ 32.000\\n    /mês</td>\n",
       "      <td>Rua Marquês de São Vicente, Gávea</td>\n",
       "      <td>Rua Marquês de São Vicente</td>\n",
       "      <td>Gávea</td>\n",
       "      <td>\\n        288 m²\\n</td>\n",
       "      <td>0</td>\n",
       "      <td>0</td>\n",
       "      <td>5</td>\n",
       "    </tr>\n",
       "    <tr>\n",
       "      <th>1</th>\n",
       "      <td>\\n    R$ 4.000\\n    /mês</td>\n",
       "      <td>Rua Uruguaiana, Centro</td>\n",
       "      <td>Rua Uruguaiana</td>\n",
       "      <td>Centro</td>\n",
       "      <td>\\n        364 m²\\n</td>\n",
       "      <td>0</td>\n",
       "      <td>2</td>\n",
       "      <td>0</td>\n",
       "    </tr>\n",
       "    <tr>\n",
       "      <th>2</th>\n",
       "      <td>\\n    R$ 6.000\\n    /mês</td>\n",
       "      <td>Rua Ministro Ramos Monteiro, Leblon</td>\n",
       "      <td>Rua Ministro Ramos Monteiro</td>\n",
       "      <td>Leblon</td>\n",
       "      <td>\\n        101 m²\\n</td>\n",
       "      <td>3</td>\n",
       "      <td>3</td>\n",
       "      <td>1</td>\n",
       "    </tr>\n",
       "    <tr>\n",
       "      <th>3</th>\n",
       "      <td>\\n    R$ 1.100\\n    /mês</td>\n",
       "      <td>Rua Conde de Porto Alegre, Rocha</td>\n",
       "      <td>Rua Conde de Porto Alegre</td>\n",
       "      <td>Rocha</td>\n",
       "      <td>\\n        50 m²\\n</td>\n",
       "      <td>1</td>\n",
       "      <td>1</td>\n",
       "      <td>0</td>\n",
       "    </tr>\n",
       "    <tr>\n",
       "      <th>4</th>\n",
       "      <td>\\n    R$ 1.450\\n    /mês</td>\n",
       "      <td>Estrada Bougainville, Itanhangá</td>\n",
       "      <td>Estrada Bougainville</td>\n",
       "      <td>Itanhangá</td>\n",
       "      <td>\\n        130 m²\\n</td>\n",
       "      <td>2</td>\n",
       "      <td>1</td>\n",
       "      <td>2</td>\n",
       "    </tr>\n",
       "  </tbody>\n",
       "</table>\n",
       "</div>"
      ],
      "text/plain": [
       "                        Rent                              Address  \\\n",
       "0  \\n    R$ 32.000\\n    /mês    Rua Marquês de São Vicente, Gávea   \n",
       "1   \\n    R$ 4.000\\n    /mês               Rua Uruguaiana, Centro   \n",
       "2   \\n    R$ 6.000\\n    /mês  Rua Ministro Ramos Monteiro, Leblon   \n",
       "3   \\n    R$ 1.100\\n    /mês     Rua Conde de Porto Alegre, Rocha   \n",
       "4   \\n    R$ 1.450\\n    /mês      Estrada Bougainville, Itanhangá   \n",
       "\n",
       "                        Street Neighborhood                        Area  \\\n",
       "0   Rua Marquês de São Vicente        Gávea  \\n        288 m²\\n           \n",
       "1               Rua Uruguaiana       Centro  \\n        364 m²\\n           \n",
       "2  Rua Ministro Ramos Monteiro       Leblon  \\n        101 m²\\n           \n",
       "3    Rua Conde de Porto Alegre        Rocha   \\n        50 m²\\n           \n",
       "4         Estrada Bougainville    Itanhangá  \\n        130 m²\\n           \n",
       "\n",
       "   Rooms  Bathrooms  Parking  \n",
       "0      0          0        5  \n",
       "1      0          2        0  \n",
       "2      3          3        1  \n",
       "3      1          1        0  \n",
       "4      2          1        2  "
      ]
     },
     "execution_count": 5,
     "metadata": {},
     "output_type": "execute_result"
    }
   ],
   "source": [
    "data.head()"
   ]
  },
  {
   "cell_type": "code",
   "execution_count": 6,
   "metadata": {},
   "outputs": [
    {
     "name": "stderr",
     "output_type": "stream",
     "text": [
      "/home/renata/.local/lib/python3.6/site-packages/ipykernel_launcher.py:2: SettingWithCopyWarning: \n",
      "A value is trying to be set on a copy of a slice from a DataFrame\n",
      "\n",
      "See the caveats in the documentation: https://pandas.pydata.org/pandas-docs/stable/user_guide/indexing.html#returning-a-view-versus-a-copy\n",
      "  \n"
     ]
    }
   ],
   "source": [
    "for i in range(0, len(data['Rent'])):\n",
    "    data['Rent'][i] = data['Rent'][i].replace('\\n', \"\")"
   ]
  },
  {
   "cell_type": "code",
   "execution_count": 7,
   "metadata": {},
   "outputs": [
    {
     "data": {
      "text/html": [
       "<div>\n",
       "<style scoped>\n",
       "    .dataframe tbody tr th:only-of-type {\n",
       "        vertical-align: middle;\n",
       "    }\n",
       "\n",
       "    .dataframe tbody tr th {\n",
       "        vertical-align: top;\n",
       "    }\n",
       "\n",
       "    .dataframe thead th {\n",
       "        text-align: right;\n",
       "    }\n",
       "</style>\n",
       "<table border=\"1\" class=\"dataframe\">\n",
       "  <thead>\n",
       "    <tr style=\"text-align: right;\">\n",
       "      <th></th>\n",
       "      <th>Rent</th>\n",
       "      <th>Address</th>\n",
       "      <th>Street</th>\n",
       "      <th>Neighborhood</th>\n",
       "      <th>Area</th>\n",
       "      <th>Rooms</th>\n",
       "      <th>Bathrooms</th>\n",
       "      <th>Parking</th>\n",
       "    </tr>\n",
       "  </thead>\n",
       "  <tbody>\n",
       "    <tr>\n",
       "      <th>0</th>\n",
       "      <td>R$ 32.000    /mês</td>\n",
       "      <td>Rua Marquês de São Vicente, Gávea</td>\n",
       "      <td>Rua Marquês de São Vicente</td>\n",
       "      <td>Gávea</td>\n",
       "      <td>\\n        288 m²\\n</td>\n",
       "      <td>0</td>\n",
       "      <td>0</td>\n",
       "      <td>5</td>\n",
       "    </tr>\n",
       "    <tr>\n",
       "      <th>1</th>\n",
       "      <td>R$ 4.000    /mês</td>\n",
       "      <td>Rua Uruguaiana, Centro</td>\n",
       "      <td>Rua Uruguaiana</td>\n",
       "      <td>Centro</td>\n",
       "      <td>\\n        364 m²\\n</td>\n",
       "      <td>0</td>\n",
       "      <td>2</td>\n",
       "      <td>0</td>\n",
       "    </tr>\n",
       "    <tr>\n",
       "      <th>2</th>\n",
       "      <td>R$ 6.000    /mês</td>\n",
       "      <td>Rua Ministro Ramos Monteiro, Leblon</td>\n",
       "      <td>Rua Ministro Ramos Monteiro</td>\n",
       "      <td>Leblon</td>\n",
       "      <td>\\n        101 m²\\n</td>\n",
       "      <td>3</td>\n",
       "      <td>3</td>\n",
       "      <td>1</td>\n",
       "    </tr>\n",
       "    <tr>\n",
       "      <th>3</th>\n",
       "      <td>R$ 1.100    /mês</td>\n",
       "      <td>Rua Conde de Porto Alegre, Rocha</td>\n",
       "      <td>Rua Conde de Porto Alegre</td>\n",
       "      <td>Rocha</td>\n",
       "      <td>\\n        50 m²\\n</td>\n",
       "      <td>1</td>\n",
       "      <td>1</td>\n",
       "      <td>0</td>\n",
       "    </tr>\n",
       "    <tr>\n",
       "      <th>4</th>\n",
       "      <td>R$ 1.450    /mês</td>\n",
       "      <td>Estrada Bougainville, Itanhangá</td>\n",
       "      <td>Estrada Bougainville</td>\n",
       "      <td>Itanhangá</td>\n",
       "      <td>\\n        130 m²\\n</td>\n",
       "      <td>2</td>\n",
       "      <td>1</td>\n",
       "      <td>2</td>\n",
       "    </tr>\n",
       "  </tbody>\n",
       "</table>\n",
       "</div>"
      ],
      "text/plain": [
       "                    Rent                              Address  \\\n",
       "0      R$ 32.000    /mês    Rua Marquês de São Vicente, Gávea   \n",
       "1       R$ 4.000    /mês               Rua Uruguaiana, Centro   \n",
       "2       R$ 6.000    /mês  Rua Ministro Ramos Monteiro, Leblon   \n",
       "3       R$ 1.100    /mês     Rua Conde de Porto Alegre, Rocha   \n",
       "4       R$ 1.450    /mês      Estrada Bougainville, Itanhangá   \n",
       "\n",
       "                        Street Neighborhood                        Area  \\\n",
       "0   Rua Marquês de São Vicente        Gávea  \\n        288 m²\\n           \n",
       "1               Rua Uruguaiana       Centro  \\n        364 m²\\n           \n",
       "2  Rua Ministro Ramos Monteiro       Leblon  \\n        101 m²\\n           \n",
       "3    Rua Conde de Porto Alegre        Rocha   \\n        50 m²\\n           \n",
       "4         Estrada Bougainville    Itanhangá  \\n        130 m²\\n           \n",
       "\n",
       "   Rooms  Bathrooms  Parking  \n",
       "0      0          0        5  \n",
       "1      0          2        0  \n",
       "2      3          3        1  \n",
       "3      1          1        0  \n",
       "4      2          1        2  "
      ]
     },
     "execution_count": 7,
     "metadata": {},
     "output_type": "execute_result"
    }
   ],
   "source": [
    "data.head()"
   ]
  },
  {
   "cell_type": "code",
   "execution_count": 8,
   "metadata": {},
   "outputs": [
    {
     "name": "stderr",
     "output_type": "stream",
     "text": [
      "/home/renata/.local/lib/python3.6/site-packages/ipykernel_launcher.py:2: SettingWithCopyWarning: \n",
      "A value is trying to be set on a copy of a slice from a DataFrame\n",
      "\n",
      "See the caveats in the documentation: https://pandas.pydata.org/pandas-docs/stable/user_guide/indexing.html#returning-a-view-versus-a-copy\n",
      "  \n",
      "/home/renata/.local/lib/python3.6/site-packages/ipykernel_launcher.py:3: SettingWithCopyWarning: \n",
      "A value is trying to be set on a copy of a slice from a DataFrame\n",
      "\n",
      "See the caveats in the documentation: https://pandas.pydata.org/pandas-docs/stable/user_guide/indexing.html#returning-a-view-versus-a-copy\n",
      "  This is separate from the ipykernel package so we can avoid doing imports until\n"
     ]
    }
   ],
   "source": [
    "for i in range(0, len(data['Rent'])):\n",
    "    data['Rent'][i] = data['Rent'][i].replace('R$', \"\")\n",
    "    data['Rent'][i] = data['Rent'][i].replace('/mês', \"\")"
   ]
  },
  {
   "cell_type": "code",
   "execution_count": 12,
   "metadata": {},
   "outputs": [
    {
     "name": "stderr",
     "output_type": "stream",
     "text": [
      "/home/renata/.local/lib/python3.6/site-packages/ipykernel_launcher.py:2: SettingWithCopyWarning: \n",
      "A value is trying to be set on a copy of a slice from a DataFrame\n",
      "\n",
      "See the caveats in the documentation: https://pandas.pydata.org/pandas-docs/stable/user_guide/indexing.html#returning-a-view-versus-a-copy\n",
      "  \n"
     ]
    }
   ],
   "source": [
    "for i in range(0, len(data['Rent'])):\n",
    "    data['Rent'][i] = data['Rent'][i].strip()"
   ]
  },
  {
   "cell_type": "code",
   "execution_count": 13,
   "metadata": {},
   "outputs": [
    {
     "data": {
      "text/plain": [
       "'32.000'"
      ]
     },
     "execution_count": 13,
     "metadata": {},
     "output_type": "execute_result"
    }
   ],
   "source": [
    "data['Rent'][0]"
   ]
  },
  {
   "cell_type": "code",
   "execution_count": 14,
   "metadata": {},
   "outputs": [
    {
     "name": "stderr",
     "output_type": "stream",
     "text": [
      "/home/renata/.local/lib/python3.6/site-packages/ipykernel_launcher.py:2: SettingWithCopyWarning: \n",
      "A value is trying to be set on a copy of a slice from a DataFrame\n",
      "\n",
      "See the caveats in the documentation: https://pandas.pydata.org/pandas-docs/stable/user_guide/indexing.html#returning-a-view-versus-a-copy\n",
      "  \n",
      "/home/renata/.local/lib/python3.6/site-packages/ipykernel_launcher.py:3: SettingWithCopyWarning: \n",
      "A value is trying to be set on a copy of a slice from a DataFrame\n",
      "\n",
      "See the caveats in the documentation: https://pandas.pydata.org/pandas-docs/stable/user_guide/indexing.html#returning-a-view-versus-a-copy\n",
      "  This is separate from the ipykernel package so we can avoid doing imports until\n",
      "/home/renata/.local/lib/python3.6/site-packages/ipykernel_launcher.py:4: SettingWithCopyWarning: \n",
      "A value is trying to be set on a copy of a slice from a DataFrame\n",
      "\n",
      "See the caveats in the documentation: https://pandas.pydata.org/pandas-docs/stable/user_guide/indexing.html#returning-a-view-versus-a-copy\n",
      "  after removing the cwd from sys.path.\n"
     ]
    }
   ],
   "source": [
    "for i in range(0, len(data['Area'])):\n",
    "    data['Area'][i] = data['Area'][i].replace('\\n', \"\")\n",
    "    data['Area'][i] = data['Area'][i].replace('m²', \"\")\n",
    "    data['Area'][i] = data['Area'][i].strip()"
   ]
  },
  {
   "cell_type": "code",
   "execution_count": 15,
   "metadata": {},
   "outputs": [
    {
     "data": {
      "text/plain": [
       "'288'"
      ]
     },
     "execution_count": 15,
     "metadata": {},
     "output_type": "execute_result"
    }
   ],
   "source": [
    "data['Area'][0]"
   ]
  },
  {
   "cell_type": "code",
   "execution_count": 16,
   "metadata": {},
   "outputs": [
    {
     "data": {
      "text/plain": [
       "'Rua Marquês de São Vicente'"
      ]
     },
     "execution_count": 16,
     "metadata": {},
     "output_type": "execute_result"
    }
   ],
   "source": [
    "data['Street'][0]"
   ]
  },
  {
   "cell_type": "code",
   "execution_count": 17,
   "metadata": {},
   "outputs": [
    {
     "data": {
      "text/plain": [
       "' Gávea'"
      ]
     },
     "execution_count": 17,
     "metadata": {},
     "output_type": "execute_result"
    }
   ],
   "source": [
    "data['Neighborhood'][0]"
   ]
  },
  {
   "cell_type": "code",
   "execution_count": 19,
   "metadata": {},
   "outputs": [
    {
     "name": "stderr",
     "output_type": "stream",
     "text": [
      "/home/renata/.local/lib/python3.6/site-packages/ipykernel_launcher.py:2: SettingWithCopyWarning: \n",
      "A value is trying to be set on a copy of a slice from a DataFrame\n",
      "\n",
      "See the caveats in the documentation: https://pandas.pydata.org/pandas-docs/stable/user_guide/indexing.html#returning-a-view-versus-a-copy\n",
      "  \n"
     ]
    }
   ],
   "source": [
    "for i in range(0, len(data['Neighborhood'])):\n",
    "    data['Neighborhood'][i] = data['Neighborhood'][i].strip()"
   ]
  },
  {
   "cell_type": "code",
   "execution_count": 20,
   "metadata": {},
   "outputs": [
    {
     "data": {
      "text/plain": [
       "'Gávea'"
      ]
     },
     "execution_count": 20,
     "metadata": {},
     "output_type": "execute_result"
    }
   ],
   "source": [
    "data['Neighborhood'][0]"
   ]
  }
 ],
 "metadata": {
  "kernelspec": {
   "display_name": "Python 3",
   "language": "python",
   "name": "python3"
  },
  "language_info": {
   "codemirror_mode": {
    "name": "ipython",
    "version": 3
   },
   "file_extension": ".py",
   "mimetype": "text/x-python",
   "name": "python",
   "nbconvert_exporter": "python",
   "pygments_lexer": "ipython3",
   "version": "3.6.10"
  }
 },
 "nbformat": 4,
 "nbformat_minor": 4
}
